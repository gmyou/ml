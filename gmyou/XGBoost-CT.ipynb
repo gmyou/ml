{
 "cells": [
  {
   "cell_type": "code",
   "execution_count": 1,
   "metadata": {
    "collapsed": false
   },
   "outputs": [
    {
     "name": "stderr",
     "output_type": "stream",
     "text": [
      "/home/gmyou/.conda/envs/py27/lib/python2.7/site-packages/sklearn/cross_validation.py:44: DeprecationWarning: This module was deprecated in version 0.18 in favor of the model_selection module into which all the refactored classes and functions are moved. Also note that the interface of the new CV iterators are different from that of this module. This module will be removed in 0.20.\n",
      "  \"This module will be removed in 0.20.\", DeprecationWarning)\n"
     ]
    },
    {
     "name": "stdout",
     "output_type": "stream",
     "text": [
      "[49.8579678535] Finished to load data\n"
     ]
    }
   ],
   "source": [
    "import pandas as pd\n",
    "import time\n",
    "import numpy as np\n",
    "from sklearn.cross_validation import train_test_split\n",
    "import xgboost as xgb\n",
    "\n",
    "path = './input/'\n",
    "\n",
    "start_time = time.time()\n",
    "\n",
    "train = pd.read_csv(path+\"ct-sample_train.csv\")\n",
    "train.columns = ['timestamp', 'sdk', 'platform', 'pub_idx', 'pub_app', 'pub_tagid', 'country', 'shop_idx', 'campaign_group_idx', 'campaign_idx', 'ads_idx', 'format_idx', 'ads_width', 'ads_height', 'adsize', 'bid', 'win', 'click', 'ctr']\n",
    "test = pd.read_csv(path+\"ct-sample_test.csv\")\n",
    "\n",
    "print('[{}] Finished to load data'.format(time.time() - start_time))"
   ]
  },
  {
   "cell_type": "code",
   "execution_count": 2,
   "metadata": {
    "collapsed": false
   },
   "outputs": [],
   "source": [
    "del train['sdk']\n",
    "del train['platform']\n",
    "del train['pub_app']\n",
    "del train['country']\n",
    "del train['adsize']\n",
    "del train['pub_tagid']\n",
    "\n",
    "del test['sdk']\n",
    "del test['platform']\n",
    "del test['pub_app']\n",
    "del test['country']\n",
    "del test['adsize']\n",
    "del test['pub_tagid']"
   ]
  },
  {
   "cell_type": "code",
   "execution_count": 3,
   "metadata": {
    "collapsed": false
   },
   "outputs": [
    {
     "name": "stdout",
     "output_type": "stream",
     "text": [
      "[52.2080099583] Start XGBoost Training\n"
     ]
    }
   ],
   "source": [
    "sub = pd.DataFrame()\n",
    "\n",
    "sub['ads_idx'] = test['ads_idx']\n",
    "sub['ctr'] = test['ctr']\n",
    "# test.drop('ctr', axis=1, inplace=True)\n",
    "\n",
    "print('[{}] Start XGBoost Training'.format(time.time() - start_time))"
   ]
  },
  {
   "cell_type": "code",
   "execution_count": 4,
   "metadata": {
    "collapsed": false
   },
   "outputs": [
    {
     "name": "stdout",
     "output_type": "stream",
     "text": [
      "[63.0889708996] Start XGBoost Training\n"
     ]
    }
   ],
   "source": [
    "y = train['ctr']\n",
    "\n",
    "\n",
    "x1, x2, y1, y2 = train_test_split(train, y, test_size=0.1, random_state=99)\n",
    "\n",
    "print('[{}] Start XGBoost Training'.format(time.time() - start_time))"
   ]
  },
  {
   "cell_type": "code",
   "execution_count": 5,
   "metadata": {
    "collapsed": false,
    "scrolled": true
   },
   "outputs": [
    {
     "name": "stdout",
     "output_type": "stream",
     "text": [
      "[(<xgboost.core.DMatrix object at 0x7fd1076369d0>, 'train'), (<xgboost.core.DMatrix object at 0x7fd14796af50>, 'valid')]\n"
     ]
    }
   ],
   "source": [
    "watchlist = [(xgb.DMatrix(x1, y1), 'train'), (xgb.DMatrix(x2, y2), 'valid')]\n",
    "\n",
    "print watchlist"
   ]
  },
  {
   "cell_type": "code",
   "execution_count": 6,
   "metadata": {
    "collapsed": false
   },
   "outputs": [
    {
     "name": "stdout",
     "output_type": "stream",
     "text": [
      "[0]\ttrain-auc:1.17079\tvalid-auc:1.16465\n",
      "[10]\ttrain-auc:1.36187\tvalid-auc:1.35333\n",
      "[20]\ttrain-auc:1.36199\tvalid-auc:1.35344\n",
      "[30]\ttrain-auc:1.36207\tvalid-auc:1.35352\n",
      "[40]\ttrain-auc:1.36206\tvalid-auc:1.35351\n",
      "[50]\ttrain-auc:1.3618\tvalid-auc:1.3532\n",
      "[60]\ttrain-auc:1.36159\tvalid-auc:1.35296\n",
      "[70]\ttrain-auc:1.36143\tvalid-auc:1.35283\n",
      "[80]\ttrain-auc:1.36114\tvalid-auc:1.35246\n",
      "[90]\ttrain-auc:1.36113\tvalid-auc:1.35246\n",
      "[100]\ttrain-auc:1.36111\tvalid-auc:1.35242\n",
      "[110]\ttrain-auc:1.36108\tvalid-auc:1.3524\n",
      "[120]\ttrain-auc:1.36112\tvalid-auc:1.35244\n",
      "[130]\ttrain-auc:1.36113\tvalid-auc:1.35246\n",
      "[140]\ttrain-auc:1.36118\tvalid-auc:1.3525\n",
      "[150]\ttrain-auc:1.36145\tvalid-auc:1.3528\n",
      "[160]\ttrain-auc:1.36138\tvalid-auc:1.35274\n",
      "[170]\ttrain-auc:1.36138\tvalid-auc:1.35273\n",
      "[180]\ttrain-auc:1.3614\tvalid-auc:1.35276\n",
      "[190]\ttrain-auc:1.36146\tvalid-auc:1.35282\n",
      "[200]\ttrain-auc:1.36144\tvalid-auc:1.35281\n",
      "[210]\ttrain-auc:1.36143\tvalid-auc:1.35279\n",
      "[220]\ttrain-auc:1.36142\tvalid-auc:1.35278\n",
      "[230]\ttrain-auc:1.3614\tvalid-auc:1.35277\n",
      "[240]\ttrain-auc:1.36134\tvalid-auc:1.35271\n",
      "[250]\ttrain-auc:1.36137\tvalid-auc:1.35275\n",
      "[259]\ttrain-auc:1.36137\tvalid-auc:1.35274\n",
      "[1481.28082299] Start XGBoost Training\n"
     ]
    }
   ],
   "source": [
    "params = {'eta': 0.1, \n",
    "          'max_depth': 4, \n",
    "          'subsample': 0.9, \n",
    "          'colsample_bytree': 0.7, \n",
    "          'colsample_bylevel':0.7,\n",
    "          'min_child_weight':100,\n",
    "          'alpha':4,\n",
    "          'objective': 'reg:linear', \n",
    "          'eval_metric': 'auc', \n",
    "          'random_state': 99, \n",
    "          'silent': True}\n",
    "\n",
    "model = xgb.train(params, xgb.DMatrix(x1, y1), 260, watchlist, maximize=True, verbose_eval=10)\n",
    "\n",
    "print('[{}] Start XGBoost Training'.format(time.time() - start_time))"
   ]
  },
  {
   "cell_type": "code",
   "execution_count": 7,
   "metadata": {
    "collapsed": false
   },
   "outputs": [
    {
     "data": {
      "text/html": [
       "<div>\n",
       "<style>\n",
       "    .dataframe thead tr:only-child th {\n",
       "        text-align: right;\n",
       "    }\n",
       "\n",
       "    .dataframe thead th {\n",
       "        text-align: left;\n",
       "    }\n",
       "\n",
       "    .dataframe tbody tr th {\n",
       "        vertical-align: top;\n",
       "    }\n",
       "</style>\n",
       "<table border=\"1\" class=\"dataframe\">\n",
       "  <thead>\n",
       "    <tr style=\"text-align: right;\">\n",
       "      <th></th>\n",
       "      <th>timestamp</th>\n",
       "      <th>pub_idx</th>\n",
       "      <th>shop_idx</th>\n",
       "      <th>campaign_group_idx</th>\n",
       "      <th>campaign_idx</th>\n",
       "      <th>ads_idx</th>\n",
       "      <th>format_idx</th>\n",
       "      <th>ads_width</th>\n",
       "      <th>ads_height</th>\n",
       "      <th>bid</th>\n",
       "      <th>win</th>\n",
       "      <th>click</th>\n",
       "      <th>ctr</th>\n",
       "    </tr>\n",
       "  </thead>\n",
       "  <tbody>\n",
       "    <tr>\n",
       "      <th>0</th>\n",
       "      <td>1520906400</td>\n",
       "      <td>135</td>\n",
       "      <td>95</td>\n",
       "      <td>735</td>\n",
       "      <td>3434</td>\n",
       "      <td>57222</td>\n",
       "      <td>1</td>\n",
       "      <td>320</td>\n",
       "      <td>50</td>\n",
       "      <td>1</td>\n",
       "      <td>0</td>\n",
       "      <td>0</td>\n",
       "      <td>0.0</td>\n",
       "    </tr>\n",
       "    <tr>\n",
       "      <th>1</th>\n",
       "      <td>1520906400</td>\n",
       "      <td>135</td>\n",
       "      <td>95</td>\n",
       "      <td>735</td>\n",
       "      <td>3434</td>\n",
       "      <td>57226</td>\n",
       "      <td>1</td>\n",
       "      <td>320</td>\n",
       "      <td>50</td>\n",
       "      <td>1</td>\n",
       "      <td>1</td>\n",
       "      <td>0</td>\n",
       "      <td>0.0</td>\n",
       "    </tr>\n",
       "    <tr>\n",
       "      <th>2</th>\n",
       "      <td>1520906400</td>\n",
       "      <td>135</td>\n",
       "      <td>170</td>\n",
       "      <td>731</td>\n",
       "      <td>3418</td>\n",
       "      <td>56376</td>\n",
       "      <td>1</td>\n",
       "      <td>320</td>\n",
       "      <td>50</td>\n",
       "      <td>1</td>\n",
       "      <td>0</td>\n",
       "      <td>0</td>\n",
       "      <td>0.0</td>\n",
       "    </tr>\n",
       "    <tr>\n",
       "      <th>3</th>\n",
       "      <td>1520906400</td>\n",
       "      <td>135</td>\n",
       "      <td>327</td>\n",
       "      <td>733</td>\n",
       "      <td>3427</td>\n",
       "      <td>57071</td>\n",
       "      <td>1</td>\n",
       "      <td>320</td>\n",
       "      <td>50</td>\n",
       "      <td>1</td>\n",
       "      <td>1</td>\n",
       "      <td>0</td>\n",
       "      <td>0.0</td>\n",
       "    </tr>\n",
       "    <tr>\n",
       "      <th>4</th>\n",
       "      <td>1520906400</td>\n",
       "      <td>135</td>\n",
       "      <td>327</td>\n",
       "      <td>733</td>\n",
       "      <td>3427</td>\n",
       "      <td>57091</td>\n",
       "      <td>1</td>\n",
       "      <td>320</td>\n",
       "      <td>50</td>\n",
       "      <td>1</td>\n",
       "      <td>1</td>\n",
       "      <td>0</td>\n",
       "      <td>0.0</td>\n",
       "    </tr>\n",
       "    <tr>\n",
       "      <th>5</th>\n",
       "      <td>1520906400</td>\n",
       "      <td>135</td>\n",
       "      <td>95</td>\n",
       "      <td>734</td>\n",
       "      <td>3432</td>\n",
       "      <td>57249</td>\n",
       "      <td>14</td>\n",
       "      <td>0</td>\n",
       "      <td>0</td>\n",
       "      <td>1</td>\n",
       "      <td>1</td>\n",
       "      <td>0</td>\n",
       "      <td>0.0</td>\n",
       "    </tr>\n",
       "    <tr>\n",
       "      <th>6</th>\n",
       "      <td>1520906400</td>\n",
       "      <td>135</td>\n",
       "      <td>170</td>\n",
       "      <td>731</td>\n",
       "      <td>3418</td>\n",
       "      <td>56375</td>\n",
       "      <td>14</td>\n",
       "      <td>0</td>\n",
       "      <td>0</td>\n",
       "      <td>2</td>\n",
       "      <td>1</td>\n",
       "      <td>0</td>\n",
       "      <td>0.0</td>\n",
       "    </tr>\n",
       "    <tr>\n",
       "      <th>7</th>\n",
       "      <td>1520906400</td>\n",
       "      <td>135</td>\n",
       "      <td>170</td>\n",
       "      <td>731</td>\n",
       "      <td>3418</td>\n",
       "      <td>56379</td>\n",
       "      <td>14</td>\n",
       "      <td>0</td>\n",
       "      <td>0</td>\n",
       "      <td>1</td>\n",
       "      <td>0</td>\n",
       "      <td>0</td>\n",
       "      <td>0.0</td>\n",
       "    </tr>\n",
       "    <tr>\n",
       "      <th>8</th>\n",
       "      <td>1520906400</td>\n",
       "      <td>135</td>\n",
       "      <td>170</td>\n",
       "      <td>731</td>\n",
       "      <td>3418</td>\n",
       "      <td>56383</td>\n",
       "      <td>14</td>\n",
       "      <td>0</td>\n",
       "      <td>0</td>\n",
       "      <td>1</td>\n",
       "      <td>0</td>\n",
       "      <td>0</td>\n",
       "      <td>0.0</td>\n",
       "    </tr>\n",
       "    <tr>\n",
       "      <th>9</th>\n",
       "      <td>1520906400</td>\n",
       "      <td>135</td>\n",
       "      <td>278</td>\n",
       "      <td>732</td>\n",
       "      <td>3421</td>\n",
       "      <td>57174</td>\n",
       "      <td>14</td>\n",
       "      <td>0</td>\n",
       "      <td>0</td>\n",
       "      <td>1</td>\n",
       "      <td>1</td>\n",
       "      <td>0</td>\n",
       "      <td>0.0</td>\n",
       "    </tr>\n",
       "  </tbody>\n",
       "</table>\n",
       "</div>"
      ],
      "text/plain": [
       "    timestamp  pub_idx  shop_idx  campaign_group_idx  campaign_idx  ads_idx  \\\n",
       "0  1520906400      135        95                 735          3434    57222   \n",
       "1  1520906400      135        95                 735          3434    57226   \n",
       "2  1520906400      135       170                 731          3418    56376   \n",
       "3  1520906400      135       327                 733          3427    57071   \n",
       "4  1520906400      135       327                 733          3427    57091   \n",
       "5  1520906400      135        95                 734          3432    57249   \n",
       "6  1520906400      135       170                 731          3418    56375   \n",
       "7  1520906400      135       170                 731          3418    56379   \n",
       "8  1520906400      135       170                 731          3418    56383   \n",
       "9  1520906400      135       278                 732          3421    57174   \n",
       "\n",
       "   format_idx  ads_width  ads_height  bid  win  click  ctr  \n",
       "0           1        320          50    1    0      0  0.0  \n",
       "1           1        320          50    1    1      0  0.0  \n",
       "2           1        320          50    1    0      0  0.0  \n",
       "3           1        320          50    1    1      0  0.0  \n",
       "4           1        320          50    1    1      0  0.0  \n",
       "5          14          0           0    1    1      0  0.0  \n",
       "6          14          0           0    2    1      0  0.0  \n",
       "7          14          0           0    1    0      0  0.0  \n",
       "8          14          0           0    1    0      0  0.0  \n",
       "9          14          0           0    1    1      0  0.0  "
      ]
     },
     "execution_count": 7,
     "metadata": {},
     "output_type": "execute_result"
    }
   ],
   "source": [
    "test"
   ]
  },
  {
   "cell_type": "code",
   "execution_count": 8,
   "metadata": {
    "collapsed": false
   },
   "outputs": [],
   "source": [
    "sub['ctr'] = model.predict(xgb.DMatrix(test), ntree_limit=model.best_ntree_limit)\n",
    "sub.to_csv('./output/ct-sample_result.csv',index=False)"
   ]
  },
  {
   "cell_type": "code",
   "execution_count": 9,
   "metadata": {
    "collapsed": false
   },
   "outputs": [
    {
     "data": {
      "text/html": [
       "<div>\n",
       "<style>\n",
       "    .dataframe thead tr:only-child th {\n",
       "        text-align: right;\n",
       "    }\n",
       "\n",
       "    .dataframe thead th {\n",
       "        text-align: left;\n",
       "    }\n",
       "\n",
       "    .dataframe tbody tr th {\n",
       "        vertical-align: top;\n",
       "    }\n",
       "</style>\n",
       "<table border=\"1\" class=\"dataframe\">\n",
       "  <thead>\n",
       "    <tr style=\"text-align: right;\">\n",
       "      <th></th>\n",
       "      <th>ads_idx</th>\n",
       "      <th>ctr</th>\n",
       "    </tr>\n",
       "  </thead>\n",
       "  <tbody>\n",
       "    <tr>\n",
       "      <th>0</th>\n",
       "      <td>57222</td>\n",
       "      <td>0.006857</td>\n",
       "    </tr>\n",
       "    <tr>\n",
       "      <th>1</th>\n",
       "      <td>57226</td>\n",
       "      <td>-0.033121</td>\n",
       "    </tr>\n",
       "    <tr>\n",
       "      <th>2</th>\n",
       "      <td>56376</td>\n",
       "      <td>0.006857</td>\n",
       "    </tr>\n",
       "    <tr>\n",
       "      <th>3</th>\n",
       "      <td>57071</td>\n",
       "      <td>-0.031454</td>\n",
       "    </tr>\n",
       "    <tr>\n",
       "      <th>4</th>\n",
       "      <td>57091</td>\n",
       "      <td>-0.031454</td>\n",
       "    </tr>\n",
       "    <tr>\n",
       "      <th>5</th>\n",
       "      <td>57249</td>\n",
       "      <td>0.069975</td>\n",
       "    </tr>\n",
       "    <tr>\n",
       "      <th>6</th>\n",
       "      <td>56375</td>\n",
       "      <td>0.069975</td>\n",
       "    </tr>\n",
       "    <tr>\n",
       "      <th>7</th>\n",
       "      <td>56379</td>\n",
       "      <td>-0.012922</td>\n",
       "    </tr>\n",
       "    <tr>\n",
       "      <th>8</th>\n",
       "      <td>56383</td>\n",
       "      <td>-0.012922</td>\n",
       "    </tr>\n",
       "    <tr>\n",
       "      <th>9</th>\n",
       "      <td>57174</td>\n",
       "      <td>0.018184</td>\n",
       "    </tr>\n",
       "  </tbody>\n",
       "</table>\n",
       "</div>"
      ],
      "text/plain": [
       "   ads_idx       ctr\n",
       "0    57222  0.006857\n",
       "1    57226 -0.033121\n",
       "2    56376  0.006857\n",
       "3    57071 -0.031454\n",
       "4    57091 -0.031454\n",
       "5    57249  0.069975\n",
       "6    56375  0.069975\n",
       "7    56379 -0.012922\n",
       "8    56383 -0.012922\n",
       "9    57174  0.018184"
      ]
     },
     "execution_count": 9,
     "metadata": {},
     "output_type": "execute_result"
    }
   ],
   "source": [
    "sub"
   ]
  }
 ],
 "metadata": {
  "anaconda-cloud": {},
  "kernelspec": {
   "display_name": "Python [py27]",
   "language": "python",
   "name": "Python [py27]"
  },
  "language_info": {
   "codemirror_mode": {
    "name": "ipython",
    "version": 2
   },
   "file_extension": ".py",
   "mimetype": "text/x-python",
   "name": "python",
   "nbconvert_exporter": "python",
   "pygments_lexer": "ipython2",
   "version": "2.7.13"
  }
 },
 "nbformat": 4,
 "nbformat_minor": 0
}
