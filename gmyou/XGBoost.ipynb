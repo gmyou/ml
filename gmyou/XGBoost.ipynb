{
 "cells": [
  {
   "cell_type": "code",
   "execution_count": null,
   "metadata": {
    "collapsed": true
   },
   "outputs": [],
   "source": [
    "# import pandas as pd\n",
    "import time\n",
    "import numpy as np\n",
    "from sklearn.cross_validation import train_test_split\n",
    "import xgboost as xgb\n",
    "\n",
    "path = './input/'\n",
    "\n",
    "def dataPreProcessTime(df):\n",
    "    df['click_time'] = pd.to_datetime(df['click_time']).dt.date\n",
    "    df['click_time'] = df['click_time'].apply(lambda x: x.strftime('%Y%m%d')).astype(int)\n",
    "    \n",
    "    return df\n",
    "\n",
    "start_time = time.time()\n",
    "\n",
    "train = pd.read_csv(path+\"train.csv\", skiprows=160000000, nrows=21000000)\n",
    "train.columns = ['ip', 'app', 'device', 'os', 'channel', 'click_time', 'attributed_time', 'is_attributed']\n",
    "test = pd.read_csv(path+\"test.csv\")\n",
    "\n",
    "print('[{}] Finished to load data'.format(time.time() - start_time))\n",
    "\n",
    "train = dataPreProcessTime(train)\n",
    "test = dataPreProcessTime(test)"
   ]
  },
  {
   "cell_type": "code",
   "execution_count": 3,
   "metadata": {
    "collapsed": false
   },
   "outputs": [
    {
     "name": "stdout",
     "output_type": "stream",
     "text": [
      "[1389.23646688] Start XGBoost Training\n"
     ]
    }
   ],
   "source": [
    "y = train['is_attributed']\n",
    "train.drop(['is_attributed', 'attributed_time'], axis=1, inplace=True)\n",
    "\n",
    "sub = pd.DataFrame()\n",
    "sub['click_id'] = test['click_id']\n",
    "test.drop('click_id', axis=1, inplace=True)\n",
    "\n",
    "print('[{}] Start XGBoost Training'.format(time.time() - start_time))"
   ]
  },
  {
   "cell_type": "code",
   "execution_count": 4,
   "metadata": {
    "collapsed": true
   },
   "outputs": [],
   "source": [
    "params = {'eta': 0.1, \n",
    "          'max_depth': 4, \n",
    "          'subsample': 0.9, \n",
    "          'colsample_bytree': 0.7, \n",
    "          'colsample_bylevel':0.7,\n",
    "          'min_child_weight':100,\n",
    "          'alpha':4,\n",
    "          'objective': 'binary:logistic', \n",
    "          'eval_metric': 'auc', \n",
    "          'random_state': 99, \n",
    "          'silent': True}\n",
    "          \n",
    "x1, x2, y1, y2 = train_test_split(train, y, test_size=0.1, random_state=99)"
   ]
  },
  {
   "cell_type": "code",
   "execution_count": 5,
   "metadata": {
    "collapsed": false
   },
   "outputs": [
    {
     "name": "stdout",
     "output_type": "stream",
     "text": [
      "[0]\ttrain-auc:0.90191\tvalid-auc:0.903179\n",
      "[10]\ttrain-auc:0.921572\tvalid-auc:0.922242\n",
      "[20]\ttrain-auc:0.926661\tvalid-auc:0.927246\n",
      "[30]\ttrain-auc:0.930237\tvalid-auc:0.930138\n",
      "[40]\ttrain-auc:0.941194\tvalid-auc:0.940388\n",
      "[50]\ttrain-auc:0.947484\tvalid-auc:0.946495\n",
      "[60]\ttrain-auc:0.950173\tvalid-auc:0.948943\n",
      "[70]\ttrain-auc:0.952684\tvalid-auc:0.951391\n",
      "[80]\ttrain-auc:0.953973\tvalid-auc:0.952252\n",
      "[90]\ttrain-auc:0.955847\tvalid-auc:0.954014\n",
      "[100]\ttrain-auc:0.957663\tvalid-auc:0.955597\n",
      "[110]\ttrain-auc:0.958585\tvalid-auc:0.956422\n",
      "[120]\ttrain-auc:0.959723\tvalid-auc:0.957494\n",
      "[130]\ttrain-auc:0.960633\tvalid-auc:0.958335\n",
      "[140]\ttrain-auc:0.961394\tvalid-auc:0.959047\n",
      "[150]\ttrain-auc:0.961617\tvalid-auc:0.959265\n",
      "[160]\ttrain-auc:0.962046\tvalid-auc:0.95984\n",
      "[170]\ttrain-auc:0.962494\tvalid-auc:0.960247\n",
      "[180]\ttrain-auc:0.962954\tvalid-auc:0.960698\n",
      "[190]\ttrain-auc:0.963392\tvalid-auc:0.961096\n",
      "[200]\ttrain-auc:0.96378\tvalid-auc:0.961476\n",
      "[210]\ttrain-auc:0.963947\tvalid-auc:0.961658\n",
      "[220]\ttrain-auc:0.964241\tvalid-auc:0.961901\n",
      "[230]\ttrain-auc:0.964526\tvalid-auc:0.962115\n",
      "[240]\ttrain-auc:0.964806\tvalid-auc:0.962434\n",
      "[250]\ttrain-auc:0.964924\tvalid-auc:0.962561\n",
      "[259]\ttrain-auc:0.965096\tvalid-auc:0.962712\n",
      "[2664.98130798] Finish XGBoost Training\n"
     ]
    }
   ],
   "source": [
    "watchlist = [(xgb.DMatrix(x1, y1), 'train'), (xgb.DMatrix(x2, y2), 'valid')]\n",
    "model = xgb.train(params, xgb.DMatrix(x1, y1), 260, watchlist, maximize=True, verbose_eval=10)\n",
    "\n",
    "print('[{}] Finish XGBoost Training'.format(time.time() - start_time))"
   ]
  },
  {
   "cell_type": "code",
   "execution_count": 6,
   "metadata": {
    "collapsed": true
   },
   "outputs": [],
   "source": [
    "sub['is_attributed'] = model.predict(xgb.DMatrix(test), ntree_limit=model.best_ntree_limit)\n",
    "sub.to_csv('xgb_sub.csv',index=False)"
   ]
  }
 ],
 "metadata": {
  "anaconda-cloud": {},
  "kernelspec": {
   "display_name": "Python [py27]",
   "language": "python",
   "name": "Python [py27]"
  },
  "language_info": {
   "codemirror_mode": {
    "name": "ipython",
    "version": 2
   },
   "file_extension": ".py",
   "mimetype": "text/x-python",
   "name": "python",
   "nbconvert_exporter": "python",
   "pygments_lexer": "ipython2",
   "version": "2.7.13"
  }
 },
 "nbformat": 4,
 "nbformat_minor": 0
}
