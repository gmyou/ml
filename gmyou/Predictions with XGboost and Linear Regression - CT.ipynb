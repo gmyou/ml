{
 "cells": [
  {
   "cell_type": "code",
   "execution_count": 1,
   "metadata": {},
   "outputs": [],
   "source": [
    "%config IPCompleter.greedy=True"
   ]
  },
  {
   "cell_type": "code",
   "execution_count": 2,
   "metadata": {},
   "outputs": [
    {
     "name": "stderr",
     "output_type": "stream",
     "text": [
      "/usr/local/src/pyenv/versions/2.7.13/lib/python2.7/site-packages/sklearn/cross_validation.py:41: DeprecationWarning: This module was deprecated in version 0.18 in favor of the model_selection module into which all the refactored classes and functions are moved. Also note that the interface of the new CV iterators are different from that of this module. This module will be removed in 0.20.\n",
      "  \"This module will be removed in 0.20.\", DeprecationWarning)\n"
     ]
    }
   ],
   "source": [
    "import numpy as np\n",
    "import pandas as pd\n",
    "import matplotlib.pyplot as plt\n",
    "import xgboost\n",
    "import math\n",
    "from __future__ import division\n",
    "from scipy.stats import pearsonr\n",
    "from sklearn.linear_model import LinearRegression\n",
    "from sklearn import cross_validation, tree, linear_model\n",
    "# from sklearn.model_selection import train_test_split\n",
    "from sklearn.cross_validation import train_test_split\n",
    "from sklearn.metrics import explained_variance_score"
   ]
  },
  {
   "cell_type": "code",
   "execution_count": 17,
   "metadata": {},
   "outputs": [],
   "source": [
    "data = pd.read_csv('data/ct-sample-100000.csv',\n",
    "                  names=['timestamp','sdk','platform','pub_idx','pub_app','pub_tagid','country','shop_idx','campaign_group_idx',\n",
    "                         'campaign_idx','ads_idx','format_idx','ads_width','ads_height','adsize','bid','win','click','ctr'],\n",
    "                  keep_default_na=False)"
   ]
  },
  {
   "cell_type": "code",
   "execution_count": 18,
   "metadata": {},
   "outputs": [
    {
     "name": "stdout",
     "output_type": "stream",
     "text": [
      "100000\n",
      "19\n",
      "[dtype('int64') dtype('O') dtype('float64')]\n",
      "timestamp               int64\n",
      "sdk                    object\n",
      "platform               object\n",
      "pub_idx                 int64\n",
      "pub_app                object\n",
      "pub_tagid              object\n",
      "country                object\n",
      "shop_idx                int64\n",
      "campaign_group_idx      int64\n",
      "campaign_idx            int64\n",
      "ads_idx                 int64\n",
      "format_idx              int64\n",
      "ads_width               int64\n",
      "ads_height              int64\n",
      "adsize                 object\n",
      "bid                     int64\n",
      "win                     int64\n",
      "click                   int64\n",
      "ctr                   float64\n",
      "dtype: object\n"
     ]
    }
   ],
   "source": [
    "# Check the number of data points in the data set\n",
    "print(len(data))\n",
    "# Check the number of features in the data set\n",
    "print(len(data.columns))\n",
    "# Check the data types\n",
    "print(data.dtypes.unique())\n",
    "print(data.dtypes)"
   ]
  },
  {
   "cell_type": "code",
   "execution_count": 5,
   "metadata": {},
   "outputs": [
    {
     "data": {
      "text/html": [
       "<div>\n",
       "<style scoped>\n",
       "    .dataframe tbody tr th:only-of-type {\n",
       "        vertical-align: middle;\n",
       "    }\n",
       "\n",
       "    .dataframe tbody tr th {\n",
       "        vertical-align: top;\n",
       "    }\n",
       "\n",
       "    .dataframe thead th {\n",
       "        text-align: right;\n",
       "    }\n",
       "</style>\n",
       "<table border=\"1\" class=\"dataframe\">\n",
       "  <thead>\n",
       "    <tr style=\"text-align: right;\">\n",
       "      <th></th>\n",
       "      <th>col_pub_tagid_0</th>\n",
       "      <th>col_pub_tagid_1</th>\n",
       "      <th>col_pub_tagid_2</th>\n",
       "      <th>col_pub_tagid_3</th>\n",
       "      <th>col_pub_tagid_4</th>\n",
       "      <th>col_pub_tagid_5</th>\n",
       "      <th>col_pub_tagid_6</th>\n",
       "    </tr>\n",
       "  </thead>\n",
       "  <tbody>\n",
       "    <tr>\n",
       "      <th>0</th>\n",
       "      <td>1.0</td>\n",
       "      <td>-0.999655</td>\n",
       "      <td>-0.99931</td>\n",
       "      <td>-0.998964</td>\n",
       "      <td>-0.998619</td>\n",
       "      <td>-0.998274</td>\n",
       "      <td>-0.997929</td>\n",
       "    </tr>\n",
       "    <tr>\n",
       "      <th>1</th>\n",
       "      <td>1.0</td>\n",
       "      <td>-0.999655</td>\n",
       "      <td>-0.99931</td>\n",
       "      <td>-0.998964</td>\n",
       "      <td>-0.998619</td>\n",
       "      <td>-0.998274</td>\n",
       "      <td>-0.997929</td>\n",
       "    </tr>\n",
       "    <tr>\n",
       "      <th>2</th>\n",
       "      <td>1.0</td>\n",
       "      <td>-0.999655</td>\n",
       "      <td>-0.99931</td>\n",
       "      <td>-0.998964</td>\n",
       "      <td>-0.998619</td>\n",
       "      <td>-0.998274</td>\n",
       "      <td>-0.997929</td>\n",
       "    </tr>\n",
       "    <tr>\n",
       "      <th>3</th>\n",
       "      <td>1.0</td>\n",
       "      <td>-0.999655</td>\n",
       "      <td>-0.99931</td>\n",
       "      <td>-0.998964</td>\n",
       "      <td>-0.998619</td>\n",
       "      <td>-0.998274</td>\n",
       "      <td>-0.997929</td>\n",
       "    </tr>\n",
       "    <tr>\n",
       "      <th>4</th>\n",
       "      <td>1.0</td>\n",
       "      <td>-0.999655</td>\n",
       "      <td>-0.99931</td>\n",
       "      <td>-0.998964</td>\n",
       "      <td>-0.998619</td>\n",
       "      <td>-0.998274</td>\n",
       "      <td>-0.997929</td>\n",
       "    </tr>\n",
       "  </tbody>\n",
       "</table>\n",
       "</div>"
      ],
      "text/plain": [
       "   col_pub_tagid_0  col_pub_tagid_1  col_pub_tagid_2  col_pub_tagid_3  \\\n",
       "0              1.0        -0.999655         -0.99931        -0.998964   \n",
       "1              1.0        -0.999655         -0.99931        -0.998964   \n",
       "2              1.0        -0.999655         -0.99931        -0.998964   \n",
       "3              1.0        -0.999655         -0.99931        -0.998964   \n",
       "4              1.0        -0.999655         -0.99931        -0.998964   \n",
       "\n",
       "   col_pub_tagid_4  col_pub_tagid_5  col_pub_tagid_6  \n",
       "0        -0.998619        -0.998274        -0.997929  \n",
       "1        -0.998619        -0.998274        -0.997929  \n",
       "2        -0.998619        -0.998274        -0.997929  \n",
       "3        -0.998619        -0.998274        -0.997929  \n",
       "4        -0.998619        -0.998274        -0.997929  "
      ]
     },
     "execution_count": 5,
     "metadata": {},
     "output_type": "execute_result"
    }
   ],
   "source": [
    "import category_encoders as ce\n",
    "\n",
    "# Get a new clean dataframe\n",
    "obj_df = data.select_dtypes(include=['object']).copy()\n",
    "\n",
    "# Specify the columns to encode then fit and transform\n",
    "encoder = ce.backward_difference.BackwardDifferenceEncoder(cols=[\"pub_tagid\"])\n",
    "encoder.fit(obj_df, verbose=1)\n",
    "\n",
    "# Only display the first 8 columns for brevity\n",
    "encoder.transform(obj_df).iloc[:,0:7].head()"
   ]
  },
  {
   "cell_type": "code",
   "execution_count": 6,
   "metadata": {},
   "outputs": [
    {
     "data": {
      "text/html": [
       "<div>\n",
       "<style scoped>\n",
       "    .dataframe tbody tr th:only-of-type {\n",
       "        vertical-align: middle;\n",
       "    }\n",
       "\n",
       "    .dataframe tbody tr th {\n",
       "        vertical-align: top;\n",
       "    }\n",
       "\n",
       "    .dataframe thead th {\n",
       "        text-align: right;\n",
       "    }\n",
       "</style>\n",
       "<table border=\"1\" class=\"dataframe\">\n",
       "  <thead>\n",
       "    <tr style=\"text-align: right;\">\n",
       "      <th></th>\n",
       "      <th>timestamp</th>\n",
       "      <th>sdk</th>\n",
       "      <th>platform</th>\n",
       "      <th>pub_idx</th>\n",
       "      <th>pub_app</th>\n",
       "      <th>pub_tagid</th>\n",
       "      <th>country</th>\n",
       "      <th>shop_idx</th>\n",
       "      <th>campaign_group_idx</th>\n",
       "      <th>campaign_idx</th>\n",
       "      <th>ads_idx</th>\n",
       "      <th>format_idx</th>\n",
       "      <th>ads_width</th>\n",
       "      <th>ads_height</th>\n",
       "      <th>adsize</th>\n",
       "      <th>bid</th>\n",
       "      <th>win</th>\n",
       "      <th>click</th>\n",
       "      <th>ctr</th>\n",
       "    </tr>\n",
       "  </thead>\n",
       "  <tbody>\n",
       "    <tr>\n",
       "      <th>561660</th>\n",
       "      <td>1514836800</td>\n",
       "      <td>app</td>\n",
       "      <td>android</td>\n",
       "      <td>34</td>\n",
       "      <td>com.mobilityflow.torrent</td>\n",
       "      <td>21370d85890d475e95b5c6badc5f4a0e</td>\n",
       "      <td>KOR</td>\n",
       "      <td>170</td>\n",
       "      <td>647</td>\n",
       "      <td>2951</td>\n",
       "      <td>51510</td>\n",
       "      <td>14</td>\n",
       "      <td>0</td>\n",
       "      <td>0</td>\n",
       "      <td>0x0</td>\n",
       "      <td>2</td>\n",
       "      <td>0</td>\n",
       "      <td>0</td>\n",
       "      <td>0.0</td>\n",
       "    </tr>\n",
       "    <tr>\n",
       "      <th>4187</th>\n",
       "      <td>1514732400</td>\n",
       "      <td>app</td>\n",
       "      <td>android</td>\n",
       "      <td>32</td>\n",
       "      <td>com.surpax.ledflashlight.panel</td>\n",
       "      <td>130046772</td>\n",
       "      <td>KOR</td>\n",
       "      <td>95</td>\n",
       "      <td>694</td>\n",
       "      <td>3252</td>\n",
       "      <td>53639</td>\n",
       "      <td>1</td>\n",
       "      <td>320</td>\n",
       "      <td>50</td>\n",
       "      <td>320x50</td>\n",
       "      <td>5</td>\n",
       "      <td>0</td>\n",
       "      <td>0</td>\n",
       "      <td>0.0</td>\n",
       "    </tr>\n",
       "    <tr>\n",
       "      <th>908408</th>\n",
       "      <td>1514901600</td>\n",
       "      <td>app</td>\n",
       "      <td>android</td>\n",
       "      <td>34</td>\n",
       "      <td>com.myyearbook.m</td>\n",
       "      <td>6b903293340a4935b6f8a1ba9606ce2e</td>\n",
       "      <td>KOR</td>\n",
       "      <td>311</td>\n",
       "      <td>666</td>\n",
       "      <td>3196</td>\n",
       "      <td>53838</td>\n",
       "      <td>1</td>\n",
       "      <td>320</td>\n",
       "      <td>50</td>\n",
       "      <td>320x50</td>\n",
       "      <td>16</td>\n",
       "      <td>2</td>\n",
       "      <td>0</td>\n",
       "      <td>0.0</td>\n",
       "    </tr>\n",
       "    <tr>\n",
       "      <th>153804</th>\n",
       "      <td>1514761200</td>\n",
       "      <td>app</td>\n",
       "      <td>android</td>\n",
       "      <td>34</td>\n",
       "      <td>com.lazyscleanwipe</td>\n",
       "      <td>1a9237e5f70441ed9e18cd92d2297e46</td>\n",
       "      <td>KOR</td>\n",
       "      <td>95</td>\n",
       "      <td>694</td>\n",
       "      <td>3252</td>\n",
       "      <td>53627</td>\n",
       "      <td>14</td>\n",
       "      <td>0</td>\n",
       "      <td>0</td>\n",
       "      <td>0x0</td>\n",
       "      <td>226</td>\n",
       "      <td>1</td>\n",
       "      <td>0</td>\n",
       "      <td>0.0</td>\n",
       "    </tr>\n",
       "    <tr>\n",
       "      <th>25501</th>\n",
       "      <td>1514736000</td>\n",
       "      <td>app</td>\n",
       "      <td>android</td>\n",
       "      <td>32</td>\n",
       "      <td>com.jb.go.musicplayer.mp3player</td>\n",
       "      <td>130332216</td>\n",
       "      <td>KOR</td>\n",
       "      <td>319</td>\n",
       "      <td>689</td>\n",
       "      <td>3218</td>\n",
       "      <td>53540</td>\n",
       "      <td>4</td>\n",
       "      <td>300</td>\n",
       "      <td>250</td>\n",
       "      <td>300x250</td>\n",
       "      <td>1</td>\n",
       "      <td>1</td>\n",
       "      <td>0</td>\n",
       "      <td>0.0</td>\n",
       "    </tr>\n",
       "    <tr>\n",
       "      <th>127373</th>\n",
       "      <td>1514757600</td>\n",
       "      <td>app</td>\n",
       "      <td>android</td>\n",
       "      <td>32</td>\n",
       "      <td>com.jb.go.musicplayer.mp3player</td>\n",
       "      <td>130326121</td>\n",
       "      <td>KOR</td>\n",
       "      <td>95</td>\n",
       "      <td>694</td>\n",
       "      <td>3251</td>\n",
       "      <td>53646</td>\n",
       "      <td>4</td>\n",
       "      <td>300</td>\n",
       "      <td>250</td>\n",
       "      <td>300x250</td>\n",
       "      <td>1</td>\n",
       "      <td>0</td>\n",
       "      <td>0</td>\n",
       "      <td>0.0</td>\n",
       "    </tr>\n",
       "    <tr>\n",
       "      <th>875442</th>\n",
       "      <td>1514894400</td>\n",
       "      <td>app</td>\n",
       "      <td>android</td>\n",
       "      <td>34</td>\n",
       "      <td>kr.ac.kaist.bab</td>\n",
       "      <td>8ea5f41cd58246acb91034974ba504ff</td>\n",
       "      <td>KOR</td>\n",
       "      <td>300</td>\n",
       "      <td>617</td>\n",
       "      <td>2905</td>\n",
       "      <td>50977</td>\n",
       "      <td>1</td>\n",
       "      <td>320</td>\n",
       "      <td>50</td>\n",
       "      <td>320x50</td>\n",
       "      <td>2</td>\n",
       "      <td>0</td>\n",
       "      <td>0</td>\n",
       "      <td>0.0</td>\n",
       "    </tr>\n",
       "    <tr>\n",
       "      <th>800335</th>\n",
       "      <td>1514883600</td>\n",
       "      <td>app</td>\n",
       "      <td>android</td>\n",
       "      <td>34</td>\n",
       "      <td>com.jb.emoji.gokeyboard</td>\n",
       "      <td>7e2733d829f94e5fb10cf7381f2f5a3e</td>\n",
       "      <td>KOR</td>\n",
       "      <td>95</td>\n",
       "      <td>694</td>\n",
       "      <td>3252</td>\n",
       "      <td>53645</td>\n",
       "      <td>4</td>\n",
       "      <td>300</td>\n",
       "      <td>250</td>\n",
       "      <td>300x250</td>\n",
       "      <td>14</td>\n",
       "      <td>0</td>\n",
       "      <td>0</td>\n",
       "      <td>0.0</td>\n",
       "    </tr>\n",
       "    <tr>\n",
       "      <th>22853</th>\n",
       "      <td>1514736000</td>\n",
       "      <td>app</td>\n",
       "      <td>android</td>\n",
       "      <td>21</td>\n",
       "      <td>0AFBC550D57F05DE4C22F393CE22BE6E</td>\n",
       "      <td></td>\n",
       "      <td>KOR</td>\n",
       "      <td>95</td>\n",
       "      <td>695</td>\n",
       "      <td>3254</td>\n",
       "      <td>53689</td>\n",
       "      <td>1</td>\n",
       "      <td>320</td>\n",
       "      <td>50</td>\n",
       "      <td>320x50</td>\n",
       "      <td>0</td>\n",
       "      <td>5</td>\n",
       "      <td>0</td>\n",
       "      <td>0.0</td>\n",
       "    </tr>\n",
       "    <tr>\n",
       "      <th>263561</th>\n",
       "      <td>1514779200</td>\n",
       "      <td>app</td>\n",
       "      <td>android</td>\n",
       "      <td>21</td>\n",
       "      <td>989E71B6767F0FCE8FD2FAEC14598296</td>\n",
       "      <td></td>\n",
       "      <td>KOR</td>\n",
       "      <td>170</td>\n",
       "      <td>646</td>\n",
       "      <td>2953</td>\n",
       "      <td>50909</td>\n",
       "      <td>1</td>\n",
       "      <td>320</td>\n",
       "      <td>50</td>\n",
       "      <td>320x50</td>\n",
       "      <td>0</td>\n",
       "      <td>4</td>\n",
       "      <td>0</td>\n",
       "      <td>0.0</td>\n",
       "    </tr>\n",
       "  </tbody>\n",
       "</table>\n",
       "</div>"
      ],
      "text/plain": [
       "         timestamp  sdk platform  pub_idx                           pub_app  \\\n",
       "561660  1514836800  app  android       34          com.mobilityflow.torrent   \n",
       "4187    1514732400  app  android       32    com.surpax.ledflashlight.panel   \n",
       "908408  1514901600  app  android       34                  com.myyearbook.m   \n",
       "153804  1514761200  app  android       34                com.lazyscleanwipe   \n",
       "25501   1514736000  app  android       32   com.jb.go.musicplayer.mp3player   \n",
       "127373  1514757600  app  android       32   com.jb.go.musicplayer.mp3player   \n",
       "875442  1514894400  app  android       34                   kr.ac.kaist.bab   \n",
       "800335  1514883600  app  android       34           com.jb.emoji.gokeyboard   \n",
       "22853   1514736000  app  android       21  0AFBC550D57F05DE4C22F393CE22BE6E   \n",
       "263561  1514779200  app  android       21  989E71B6767F0FCE8FD2FAEC14598296   \n",
       "\n",
       "                               pub_tagid country  shop_idx  \\\n",
       "561660  21370d85890d475e95b5c6badc5f4a0e     KOR       170   \n",
       "4187                           130046772     KOR        95   \n",
       "908408  6b903293340a4935b6f8a1ba9606ce2e     KOR       311   \n",
       "153804  1a9237e5f70441ed9e18cd92d2297e46     KOR        95   \n",
       "25501                          130332216     KOR       319   \n",
       "127373                         130326121     KOR        95   \n",
       "875442  8ea5f41cd58246acb91034974ba504ff     KOR       300   \n",
       "800335  7e2733d829f94e5fb10cf7381f2f5a3e     KOR        95   \n",
       "22853                                        KOR        95   \n",
       "263561                                       KOR       170   \n",
       "\n",
       "        campaign_group_idx  campaign_idx  ads_idx  format_idx  ads_width  \\\n",
       "561660                 647          2951    51510          14          0   \n",
       "4187                   694          3252    53639           1        320   \n",
       "908408                 666          3196    53838           1        320   \n",
       "153804                 694          3252    53627          14          0   \n",
       "25501                  689          3218    53540           4        300   \n",
       "127373                 694          3251    53646           4        300   \n",
       "875442                 617          2905    50977           1        320   \n",
       "800335                 694          3252    53645           4        300   \n",
       "22853                  695          3254    53689           1        320   \n",
       "263561                 646          2953    50909           1        320   \n",
       "\n",
       "        ads_height   adsize  bid  win  click  ctr  \n",
       "561660           0      0x0    2    0      0  0.0  \n",
       "4187            50   320x50    5    0      0  0.0  \n",
       "908408          50   320x50   16    2      0  0.0  \n",
       "153804           0      0x0  226    1      0  0.0  \n",
       "25501          250  300x250    1    1      0  0.0  \n",
       "127373         250  300x250    1    0      0  0.0  \n",
       "875442          50   320x50    2    0      0  0.0  \n",
       "800335         250  300x250   14    0      0  0.0  \n",
       "22853           50   320x50    0    5      0  0.0  \n",
       "263561          50   320x50    0    4      0  0.0  "
      ]
     },
     "execution_count": 6,
     "metadata": {},
     "output_type": "execute_result"
    }
   ],
   "source": [
    "data.isnull().any().sum()\n",
    "# isnull() 각 데이타의 null여부 True/False\n",
    "# any() 한개라도 존재할경우 True\n",
    "# sum() 갯수구하기\n",
    "# null값이 존재하는 컬룸 수는 몇개인가?\n",
    "data.sample(n=10)"
   ]
  },
  {
   "cell_type": "code",
   "execution_count": 7,
   "metadata": {},
   "outputs": [
    {
     "name": "stdout",
     "output_type": "stream",
     "text": [
      "timestamp               int64\n",
      "sdk                    object\n",
      "platform               object\n",
      "pub_idx                 int64\n",
      "pub_app                object\n",
      "pub_tagid              object\n",
      "country                object\n",
      "shop_idx                int64\n",
      "campaign_group_idx      int64\n",
      "campaign_idx            int64\n",
      "ads_idx                 int64\n",
      "format_idx              int64\n",
      "ads_width               int64\n",
      "ads_height              int64\n",
      "adsize                 object\n",
      "bid                     int64\n",
      "win                     int64\n",
      "click                   int64\n",
      "ctr                   float64\n",
      "sdk_code                int64\n",
      "platform_code           int64\n",
      "pub_app_code            int64\n",
      "pub_tagid_code          int64\n",
      "country_code            int64\n",
      "adsize_code             int64\n",
      "dtype: object\n"
     ]
    }
   ],
   "source": [
    "from sklearn.preprocessing import LabelEncoder\n",
    "\n",
    "lb_make = LabelEncoder()\n",
    "data[\"sdk_code\"] = lb_make.fit_transform(data[\"sdk\"])\n",
    "data[\"platform_code\"] = lb_make.fit_transform(data[\"platform\"])\n",
    "data[\"pub_app_code\"] = lb_make.fit_transform(data[\"pub_app\"])\n",
    "data[\"pub_tagid_code\"] = lb_make.fit_transform(data[\"pub_tagid\"])\n",
    "data[\"country_code\"] = lb_make.fit_transform(data[\"country\"])\n",
    "data[\"adsize_code\"] = lb_make.fit_transform(data[\"adsize\"])\n",
    "data[[\"pub_app\", \"pub_app_code\", \"adsize\", \"adsize_code\", \n",
    "      \"pub_tagid\", \"pub_tagid_code\", \"sdk\", \"sdk_code\"]].sample(20)\n",
    "\n",
    "print(data.dtypes)"
   ]
  },
  {
   "cell_type": "code",
   "execution_count": 8,
   "metadata": {},
   "outputs": [
    {
     "name": "stdout",
     "output_type": "stream",
     "text": [
      "['sdk_code', 'platform_code', 'pub_idx', 'pub_app_code', 'pub_tagid_code', 'shop_idx', 'campaign_group_idx', 'campaign_idx', 'ads_idx', 'adsize_code']\n",
      "ctr\n"
     ]
    }
   ],
   "source": [
    "features = data.loc[:,['sdk_code','platform_code','pub_idx','pub_app_code','pub_tagid_code',\n",
    "                       'shop_idx','campaign_group_idx',\n",
    "                         'campaign_idx','ads_idx','adsize_code']].columns.tolist()\n",
    "print(features)\n",
    "target = data.loc[:,'ctr'].name\n",
    "print(target)"
   ]
  },
  {
   "cell_type": "code",
   "execution_count": 32,
   "metadata": {},
   "outputs": [],
   "source": [
    "correlations = {}\n",
    "for f in features:\n",
    "    data_temp = data[[f,target]]\n",
    "    x1 = data_temp[f].values\n",
    "    x2 = data_temp[target].values\n",
    "    key = f + ' vs ' + target\n",
    "    correlations[key] = pearsonr(x1,x2)[0]\n",
    "#     try:\n",
    "#         correlations[key] = pearsonr(x1,x2)[0]\n",
    "#     except:\n",
    "#         pass"
   ]
  },
  {
   "cell_type": "code",
   "execution_count": 33,
   "metadata": {},
   "outputs": [
    {
     "data": {
      "text/html": [
       "<div>\n",
       "<style scoped>\n",
       "    .dataframe tbody tr th:only-of-type {\n",
       "        vertical-align: middle;\n",
       "    }\n",
       "\n",
       "    .dataframe tbody tr th {\n",
       "        vertical-align: top;\n",
       "    }\n",
       "\n",
       "    .dataframe thead th {\n",
       "        text-align: right;\n",
       "    }\n",
       "</style>\n",
       "<table border=\"1\" class=\"dataframe\">\n",
       "  <thead>\n",
       "    <tr style=\"text-align: right;\">\n",
       "      <th></th>\n",
       "      <th>Value</th>\n",
       "    </tr>\n",
       "  </thead>\n",
       "  <tbody>\n",
       "    <tr>\n",
       "      <th>adsize_code vs ctr</th>\n",
       "      <td>-0.039184</td>\n",
       "    </tr>\n",
       "    <tr>\n",
       "      <th>shop_idx vs ctr</th>\n",
       "      <td>0.030327</td>\n",
       "    </tr>\n",
       "    <tr>\n",
       "      <th>ads_idx vs ctr</th>\n",
       "      <td>-0.028493</td>\n",
       "    </tr>\n",
       "    <tr>\n",
       "      <th>campaign_group_idx vs ctr</th>\n",
       "      <td>-0.025289</td>\n",
       "    </tr>\n",
       "    <tr>\n",
       "      <th>pub_tagid_code vs ctr</th>\n",
       "      <td>0.019722</td>\n",
       "    </tr>\n",
       "    <tr>\n",
       "      <th>campaign_idx vs ctr</th>\n",
       "      <td>-0.018618</td>\n",
       "    </tr>\n",
       "    <tr>\n",
       "      <th>pub_app_code vs ctr</th>\n",
       "      <td>0.016656</td>\n",
       "    </tr>\n",
       "    <tr>\n",
       "      <th>pub_idx vs ctr</th>\n",
       "      <td>0.009149</td>\n",
       "    </tr>\n",
       "    <tr>\n",
       "      <th>platform_code vs ctr</th>\n",
       "      <td>-0.008039</td>\n",
       "    </tr>\n",
       "    <tr>\n",
       "      <th>sdk_code vs ctr</th>\n",
       "      <td>-0.002691</td>\n",
       "    </tr>\n",
       "  </tbody>\n",
       "</table>\n",
       "</div>"
      ],
      "text/plain": [
       "                              Value\n",
       "adsize_code vs ctr        -0.039184\n",
       "shop_idx vs ctr            0.030327\n",
       "ads_idx vs ctr            -0.028493\n",
       "campaign_group_idx vs ctr -0.025289\n",
       "pub_tagid_code vs ctr      0.019722\n",
       "campaign_idx vs ctr       -0.018618\n",
       "pub_app_code vs ctr        0.016656\n",
       "pub_idx vs ctr             0.009149\n",
       "platform_code vs ctr      -0.008039\n",
       "sdk_code vs ctr           -0.002691"
      ]
     },
     "execution_count": 33,
     "metadata": {},
     "output_type": "execute_result"
    }
   ],
   "source": [
    "data_correlations = pd.DataFrame(correlations, index=['Value']).T\n",
    "data_correlations.loc[data_correlations['Value'].abs().sort_values(ascending=False).index]"
   ]
  },
  {
   "cell_type": "code",
   "execution_count": 34,
   "metadata": {},
   "outputs": [],
   "source": [
    "# target is \"ctr\"\n",
    "y = data.loc[:,['adsize_code','pub_tagid_code',target]].sort_values(target, ascending=True).values\n",
    "x = np.arange(y.shape[0])"
   ]
  },
  {
   "cell_type": "code",
   "execution_count": 35,
   "metadata": {},
   "outputs": [
    {
     "data": {
      "image/png": "[encoded data removed]",
      "text/plain": [
       "<matplotlib.figure.Figure at 0x7f9d4086a0d0>"
      ]
     },
     "metadata": {},
     "output_type": "display_data"
    }
   ],
   "source": [
    "%matplotlib inline\n",
    "\n",
    "plt.subplot(3,1,1)\n",
    "plt.title('Adsize and Tagid vs CTR')\n",
    "plt.plot(x,y[:,0])\n",
    "plt.ylabel('AdSize')\n",
    "\n",
    "plt.subplot(3,1,2)\n",
    "plt.plot(x,y[:,1])\n",
    "plt.ylabel('Tag Id')\n",
    "\n",
    "plt.subplot(3,1,3)\n",
    "plt.plot(x,y[:,2],'r') # 두번쨰 인자값은 그래스 스타일 : r = red color\n",
    "plt.ylabel(\"Ctr\")\n",
    "\n",
    "plt.show()"
   ]
  },
  {
   "cell_type": "markdown",
   "metadata": {},
   "source": [
    "##### 분석데이타 만들기"
   ]
  },
  {
   "cell_type": "code",
   "execution_count": 9,
   "metadata": {},
   "outputs": [],
   "source": [
    "new_data = data[['timestamp','sdk_code','platform_code','pub_idx','pub_app_code','pub_tagid_code',\n",
    "                       'shop_idx','campaign_group_idx',\n",
    "                         'campaign_idx','ads_idx','adsize_code']]\n",
    "\n",
    "X = new_data.values\n",
    "y = data.ctr.values"
   ]
  },
  {
   "cell_type": "code",
   "execution_count": 10,
   "metadata": {},
   "outputs": [],
   "source": [
    "X_train, X_test, y_train, y_test = cross_validation.train_test_split(X, y ,test_size=0.2)"
   ]
  },
  {
   "cell_type": "code",
   "execution_count": 11,
   "metadata": {},
   "outputs": [
    {
     "name": "stdout",
     "output_type": "stream",
     "text": [
      "[0.48530758 0.60608466 0.45615631 ... 0.64098009 0.34314718 0.63728486]\n"
     ]
    }
   ],
   "source": [
    "# Train a simple linear regression model\n",
    "regr = linear_model.LinearRegression()\n",
    "regr.fit(X_train, y_train)\n",
    "print(regr.predict(X_test))"
   ]
  },
  {
   "cell_type": "code",
   "execution_count": 12,
   "metadata": {},
   "outputs": [
    {
     "data": {
      "text/plain": [
       "0.002229439964462787"
      ]
     },
     "execution_count": 12,
     "metadata": {},
     "output_type": "execute_result"
    }
   ],
   "source": [
    "regr.score(X_test,y_test)"
   ]
  },
  {
   "cell_type": "code",
   "execution_count": 13,
   "metadata": {},
   "outputs": [
    {
     "name": "stdout",
     "output_type": "stream",
     "text": [
      "RMSE: 5.73\n"
     ]
    }
   ],
   "source": [
    "# Calculate the Root Mean Squared Error\n",
    "print(\"RMSE: %.2f\"\n",
    "      % math.sqrt(np.mean((regr.predict(X_test) - y_test) ** 2)))"
   ]
  },
  {
   "cell_type": "markdown",
   "metadata": {},
   "source": [
    "Predicting"
   ]
  },
  {
   "cell_type": "code",
   "execution_count": 14,
   "metadata": {},
   "outputs": [],
   "source": [
    "# Let's try XGboost algorithm to see if we can get better results\n",
    "xgb = xgboost.XGBRegressor(n_estimators=100, learning_rate=0.08, gamma=0, subsample=0.75,\n",
    "                           colsample_bytree=1, max_depth=7)"
   ]
  },
  {
   "cell_type": "code",
   "execution_count": 15,
   "metadata": {},
   "outputs": [
    {
     "data": {
      "text/plain": [
       "XGBRegressor(base_score=0.5, booster='gbtree', colsample_bylevel=1,\n",
       "       colsample_bytree=1, gamma=0, learning_rate=0.08, max_delta_step=0,\n",
       "       max_depth=7, min_child_weight=1, missing=None, n_estimators=100,\n",
       "       n_jobs=1, nthread=None, objective='reg:linear', random_state=0,\n",
       "       reg_alpha=0, reg_lambda=1, scale_pos_weight=1, seed=None,\n",
       "       silent=True, subsample=0.75)"
      ]
     },
     "execution_count": 15,
     "metadata": {},
     "output_type": "execute_result"
    }
   ],
   "source": [
    "traindf, testdf = train_test_split(X_train, test_size = 0.3)\n",
    "xgb.fit(X_train,y_train)"
   ]
  },
  {
   "cell_type": "code",
   "execution_count": 16,
   "metadata": {},
   "outputs": [
    {
     "name": "stdout",
     "output_type": "stream",
     "text": [
      "-30.74160574823279\n"
     ]
    }
   ],
   "source": [
    "predictions = xgb.predict(X_test)\n",
    "print(explained_variance_score(predictions,y_test))"
   ]
  },
  {
   "cell_type": "code",
   "execution_count": null,
   "metadata": {},
   "outputs": [],
   "source": []
  }
 ],
 "metadata": {
  "kernelspec": {
   "display_name": "Python 2",
   "language": "python",
   "name": "python2"
  },
  "language_info": {
   "codemirror_mode": {
    "name": "ipython",
    "version": 2
   },
   "file_extension": ".py",
   "mimetype": "text/x-python",
   "name": "python",
   "nbconvert_exporter": "python",
   "pygments_lexer": "ipython2",
   "version": "2.7.12"
  }
 },
 "nbformat": 4,
 "nbformat_minor": 2
}
